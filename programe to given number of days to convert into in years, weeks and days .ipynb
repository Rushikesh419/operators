{
  "nbformat": 4,
  "nbformat_minor": 0,
  "metadata": {
    "colab": {
      "provenance": [],
      "authorship_tag": "ABX9TyP7d5kpxJLNTOpCffrVEukm",
      "include_colab_link": true
    },
    "kernelspec": {
      "name": "python3",
      "display_name": "Python 3"
    },
    "language_info": {
      "name": "python"
    }
  },
  "cells": [
    {
      "cell_type": "markdown",
      "metadata": {
        "id": "view-in-github",
        "colab_type": "text"
      },
      "source": [
        "<a href=\"https://colab.research.google.com/github/Rushikesh419/operators/blob/main/programe%20to%20given%20number%20of%20days%20to%20convert%20into%20in%20years%2C%20weeks%20and%20days%20.ipynb\" target=\"_parent\"><img src=\"https://colab.research.google.com/assets/colab-badge.svg\" alt=\"Open In Colab\"/></a>"
      ]
    },
    {
      "cell_type": "code",
      "execution_count": 8,
      "metadata": {
        "colab": {
          "base_uri": "https://localhost:8080/"
        },
        "id": "sFaUeO85QWAe",
        "outputId": "2c370a2b-06e1-4466-e26c-e0c2ecd09d33"
      },
      "outputs": [
        {
          "output_type": "stream",
          "name": "stdout",
          "text": [
            "enter the number of days : 376\n",
            "number of years = 1,\n",
            "number of weeks =1,\n",
            "remaining number of days =4\n"
          ]
        }
      ],
      "source": [
        "# WAP to convert given number of days in years,weeksand days\n",
        "\n",
        "number_of_days=int(input('enter the number of days : '))\n",
        "number_of_years=int(number_of_days/365)\n",
        "number_of_weeks=int(number_of_days%365/7)\n",
        "remaining_number_of_days=int(number_of_days%365%7)\n",
        "print(f'number of years = {number_of_years},\\nnumber of weeks ={number_of_weeks},\\nremaining number of days ={remaining_number_of_days}')\n"
      ]
    }
  ]
}