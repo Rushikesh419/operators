{
  "nbformat": 4,
  "nbformat_minor": 0,
  "metadata": {
    "colab": {
      "provenance": [],
      "authorship_tag": "ABX9TyPXTOVZaKcwt0XSD03r/uhL",
      "include_colab_link": true
    },
    "kernelspec": {
      "name": "python3",
      "display_name": "Python 3"
    },
    "language_info": {
      "name": "python"
    }
  },
  "cells": [
    {
      "cell_type": "markdown",
      "metadata": {
        "id": "view-in-github",
        "colab_type": "text"
      },
      "source": [
        "<a href=\"https://colab.research.google.com/github/Rushikesh419/operators/blob/main/simple_calculator_using_only_operators.ipynb\" target=\"_parent\"><img src=\"https://colab.research.google.com/assets/colab-badge.svg\" alt=\"Open In Colab\"/></a>"
      ]
    },
    {
      "cell_type": "code",
      "execution_count": 1,
      "metadata": {
        "colab": {
          "base_uri": "https://localhost:8080/"
        },
        "id": "rCiUTg5vLDC7",
        "outputId": "80765890-b137-47e1-ba71-d73bd1500bd0"
      },
      "outputs": [
        {
          "output_type": "stream",
          "name": "stdout",
          "text": [
            "enter the first number : 95\n",
            "enter the operator (+,-,*,/,%,** ) : +\n",
            "enter the second number : 29\n",
            "124\n"
          ]
        }
      ],
      "source": [
        "# making a simple calculator.\n",
        "\n",
        "first_number=int(input('enter the first number : '))\n",
        "operator=input(\"enter the operator (+,-,*,/,%,** ) : \")\n",
        "second_number=int(input('enter the second number : '))\n",
        "if operator == '+':\n",
        "    print(first_number+second_number)\n",
        "elif operator == '-':\n",
        "    print(first_number-second_number)\n",
        "elif operator == '*':\n",
        "    print(first_number*second_number)\n",
        "elif operator == '/':\n",
        "    print(first_number/second_number)\n",
        "elif operator == '%':\n",
        "    print(first_number%second_number)\n",
        "elif operator =='**':\n",
        "    print(first_number**second_number)\n",
        "else:\n",
        "    print('invalid operation')"
      ]
    }
  ]
}